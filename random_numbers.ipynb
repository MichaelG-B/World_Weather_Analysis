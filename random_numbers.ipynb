{
 "cells": [
  {
   "cell_type": "code",
   "execution_count": 125,
   "id": "b825fa3e",
   "metadata": {},
   "outputs": [],
   "source": [
    "# Import the random module.\n",
    "import random"
   ]
  },
  {
   "cell_type": "code",
   "execution_count": 126,
   "id": "b0a0c4b4",
   "metadata": {},
   "outputs": [
    {
     "data": {
      "text/plain": [
       "-42.03347362625876"
      ]
     },
     "execution_count": 126,
     "metadata": {},
     "output_type": "execute_result"
    }
   ],
   "source": [
    "random.uniform(-90, 90)"
   ]
  },
  {
   "cell_type": "code",
   "execution_count": 127,
   "id": "af2da46f",
   "metadata": {},
   "outputs": [
    {
     "data": {
      "text/plain": [
       "51"
      ]
     },
     "execution_count": 127,
     "metadata": {},
     "output_type": "execute_result"
    }
   ],
   "source": [
    "random.randrange(-90, 90, step=3)"
   ]
  },
  {
   "cell_type": "code",
   "execution_count": 128,
   "id": "a9a3b81d",
   "metadata": {},
   "outputs": [
    {
     "data": {
      "text/plain": [
       "34"
      ]
     },
     "execution_count": 128,
     "metadata": {},
     "output_type": "execute_result"
    }
   ],
   "source": [
    "random.randint(-90, 90)"
   ]
  },
  {
   "cell_type": "code",
   "execution_count": 129,
   "id": "46a252b7",
   "metadata": {},
   "outputs": [
    {
     "data": {
      "text/plain": [
       "0.9120124591840728"
      ]
     },
     "execution_count": 129,
     "metadata": {},
     "output_type": "execute_result"
    }
   ],
   "source": [
    "random.random()"
   ]
  },
  {
   "cell_type": "code",
   "execution_count": 130,
   "id": "480930e9",
   "metadata": {},
   "outputs": [
    {
     "data": {
      "text/plain": [
       "63.31632115348403"
      ]
     },
     "execution_count": 130,
     "metadata": {},
     "output_type": "execute_result"
    }
   ],
   "source": [
    "random_number = random.randint(-90, 89) + random.random()\n",
    "random_number"
   ]
  },
  {
   "cell_type": "code",
   "execution_count": 131,
   "id": "c141461d",
   "metadata": {},
   "outputs": [],
   "source": [
    "x = 1\n",
    "latitudes = []\n",
    "while x < 11:\n",
    "    random_lat = random.randint(-90, 89) + random.random()\n",
    "    latitudes.append(random_lat)\n",
    "    x += 1"
   ]
  },
  {
   "cell_type": "code",
   "execution_count": 132,
   "id": "3fb60bcc",
   "metadata": {},
   "outputs": [
    {
     "data": {
      "text/plain": [
       "[-68.84570127481174,\n",
       " -89.92202074713985,\n",
       " 23.44505679389464,\n",
       " -35.56431189956843,\n",
       " 30.86960595684663,\n",
       " 65.71954304836795,\n",
       " -78.11286754087456,\n",
       " -31.356699691628275,\n",
       " -54.220555188958514,\n",
       " -34.91189910970939]"
      ]
     },
     "execution_count": 132,
     "metadata": {},
     "output_type": "execute_result"
    }
   ],
   "source": [
    "latitudes"
   ]
  },
  {
   "cell_type": "code",
   "execution_count": 133,
   "id": "d960fdb8",
   "metadata": {},
   "outputs": [],
   "source": [
    "# Import the NumPy module.\n",
    "import numpy as np"
   ]
  },
  {
   "cell_type": "code",
   "execution_count": 134,
   "id": "38d8952c",
   "metadata": {},
   "outputs": [
    {
     "data": {
      "text/plain": [
       "72.06943289232703"
      ]
     },
     "execution_count": 134,
     "metadata": {},
     "output_type": "execute_result"
    }
   ],
   "source": [
    "np.random.uniform(-90.000, 90.000)\n",
    "#np.random.uniform(low=-90, high=90)"
   ]
  },
  {
   "cell_type": "code",
   "execution_count": 135,
   "id": "e0a18f40",
   "metadata": {},
   "outputs": [
    {
     "data": {
      "text/plain": [
       "array([-68.60150306,  13.32547638, -77.14910536,  -7.94580712,\n",
       "        58.99644419,  83.19630314,  43.61789575, -88.68925384,\n",
       "       -30.06239984,  80.38314938, -89.42636282,  20.96921826,\n",
       "       -26.89161919,  -2.392088  , -85.08092695,  19.64283685,\n",
       "        21.13518965,  36.20774067, -65.03455314, -10.21663488,\n",
       "       -70.43852791, -10.19293718,  23.1566274 , -17.76750492,\n",
       "       -37.53152174,  41.95507103, -88.31009861,  -7.61034311,\n",
       "        70.65396818,  76.15645886, -15.97197617, -68.42948653,\n",
       "       -37.23726754, -68.27022116, -12.15212221, -76.37129615,\n",
       "       -23.32692674,  59.6486677 ,  32.12413952,  12.25297603,\n",
       "        79.6524298 , -54.48068107,  44.91899057,  74.44343421,\n",
       "        86.19674577,  63.85082527, -80.69003389,  51.62907945,\n",
       "       -75.83145364, -18.78330281])"
      ]
     },
     "execution_count": 135,
     "metadata": {},
     "output_type": "execute_result"
    }
   ],
   "source": [
    "np.random.uniform(-90.000, 90.000, size=50)"
   ]
  },
  {
   "cell_type": "code",
   "execution_count": 136,
   "id": "50d28890",
   "metadata": {},
   "outputs": [],
   "source": [
    "# Import timeit.\n",
    "import timeit"
   ]
  },
  {
   "cell_type": "code",
   "execution_count": 139,
   "id": "0eeae41e",
   "metadata": {},
   "outputs": [
    {
     "name": "stdout",
     "output_type": "stream",
     "text": [
      "18.2 µs ± 116 ns per loop (mean ± std. dev. of 7 runs, 100,000 loops each)\n"
     ]
    }
   ],
   "source": [
    "%timeit np.random.uniform(-90.000, 90.000, size=1500)"
   ]
  },
  {
   "cell_type": "code",
   "execution_count": 140,
   "id": "c656b339",
   "metadata": {},
   "outputs": [
    {
     "name": "stdout",
     "output_type": "stream",
     "text": [
      "1.77 ms ± 9.52 µs per loop (mean ± std. dev. of 7 runs, 1,000 loops each)\n"
     ]
    }
   ],
   "source": [
    "def latitudes(size):\n",
    "    latitudes = []\n",
    "    x = 0\n",
    "    while x < (size):\n",
    "        random_lat = random.randint(-90, 90) + random.random()\n",
    "        latitudes.append(random_lat)\n",
    "        x += 1\n",
    "    return latitudes\n",
    "# Call the function with 1500.\n",
    "\n",
    "%timeit latitudes(1500)"
   ]
  },
  {
   "cell_type": "code",
   "execution_count": null,
   "id": "f34efa75",
   "metadata": {},
   "outputs": [],
   "source": []
  }
 ],
 "metadata": {
  "kernelspec": {
   "display_name": "PythonData",
   "language": "python",
   "name": "pythondata"
  },
  "language_info": {
   "codemirror_mode": {
    "name": "ipython",
    "version": 3
   },
   "file_extension": ".py",
   "mimetype": "text/x-python",
   "name": "python",
   "nbconvert_exporter": "python",
   "pygments_lexer": "ipython3",
   "version": "3.9.12"
  }
 },
 "nbformat": 4,
 "nbformat_minor": 5
}
